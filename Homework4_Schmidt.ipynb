{
  "nbformat": 4,
  "nbformat_minor": 0,
  "metadata": {
    "colab": {
      "provenance": [],
      "authorship_tag": "ABX9TyOj9MWf4rL3rY8kEhRyw5FZ",
      "include_colab_link": true
    },
    "kernelspec": {
      "name": "python3",
      "display_name": "Python 3"
    },
    "language_info": {
      "name": "python"
    }
  },
  "cells": [
    {
      "cell_type": "markdown",
      "metadata": {
        "id": "view-in-github",
        "colab_type": "text"
      },
      "source": [
        "<a href=\"https://colab.research.google.com/github/eschmidt39/Homework-4/blob/main/Homework4_Schmidt.ipynb\" target=\"_parent\"><img src=\"https://colab.research.google.com/assets/colab-badge.svg\" alt=\"Open In Colab\"/></a>"
      ]
    },
    {
      "cell_type": "code",
      "execution_count": 58,
      "metadata": {
        "colab": {
          "base_uri": "https://localhost:8080/"
        },
        "id": "uXaucgCE9cd5",
        "outputId": "3a16e3aa-0de7-48a8-e69a-72cf02fc46a0"
      },
      "outputs": [
        {
          "output_type": "stream",
          "name": "stdout",
          "text": [
            "Drive already mounted at /content/drive/; to attempt to forcibly remount, call drive.mount(\"/content/drive/\", force_remount=True).\n"
          ]
        }
      ],
      "source": [
        "import pandas as pd\n",
        "import numpy as np\n",
        "from scipy import stats\n",
        "from scipy.stats import norm\n",
        "from scipy.optimize import minimize\n",
        "from sklearn import linear_model\n",
        "from sklearn.linear_model import LinearRegression\n",
        "from sklearn.metrics import r2_score\n",
        "\n",
        "from google.colab import drive\n",
        "drive.mount('/content/drive/')"
      ]
    },
    {
      "cell_type": "code",
      "source": [
        "filedir = '/content/drive/MyDrive/FWE458 - Envir. Data Sci./Data_Sets/'\n",
        "fname = filedir+'Wcr_GPPdaily.csv'\n",
        "\n",
        "df = pd.read_csv(fname)\n",
        "print(df)"
      ],
      "metadata": {
        "colab": {
          "base_uri": "https://localhost:8080/"
        },
        "id": "by5ZT209lrbg",
        "outputId": "c98cb2f6-554e-437b-b842-e9d119144a77"
      },
      "execution_count": 29,
      "outputs": [
        {
          "output_type": "stream",
          "name": "stdout",
          "text": [
            "      TIMESTAMP    TA_F  SW_IN_F  VPD_F  GPP_NT_VUT_REF\n",
            "0      19990101 -20.063   72.603  0.413       -0.517364\n",
            "1      19990102 -12.814   12.358  0.147       -0.094241\n",
            "2      19990103 -12.625   33.132  0.128       -0.166819\n",
            "3      19990104 -18.652   93.481  0.263       -0.582301\n",
            "4      19990105 -20.269   45.502  0.261       -0.568240\n",
            "...         ...     ...      ...    ...             ...\n",
            "5839   20141227  -5.112   22.956  0.497        0.195777\n",
            "5840   20141228 -12.408   33.332  0.531        0.093025\n",
            "5841   20141229 -18.204   69.597  0.461       -0.234488\n",
            "5842   20141230 -22.252   81.959  0.448       -0.315846\n",
            "5843   20141231 -19.436   42.164  0.619       -0.217537\n",
            "\n",
            "[5844 rows x 5 columns]\n"
          ]
        }
      ]
    },
    {
      "cell_type": "code",
      "source": [
        "#drop TIMESTAMP column\n",
        "df.drop(columns=[\"TIMESTAMP\"], inplace=True)\n",
        "print(df)"
      ],
      "metadata": {
        "colab": {
          "base_uri": "https://localhost:8080/"
        },
        "id": "FyEGqgPaZQdC",
        "outputId": "c95aab6a-8eb1-4bce-e862-100cfb994e18"
      },
      "execution_count": 30,
      "outputs": [
        {
          "output_type": "stream",
          "name": "stdout",
          "text": [
            "        TA_F  SW_IN_F  VPD_F  GPP_NT_VUT_REF\n",
            "0    -20.063   72.603  0.413       -0.517364\n",
            "1    -12.814   12.358  0.147       -0.094241\n",
            "2    -12.625   33.132  0.128       -0.166819\n",
            "3    -18.652   93.481  0.263       -0.582301\n",
            "4    -20.269   45.502  0.261       -0.568240\n",
            "...      ...      ...    ...             ...\n",
            "5839  -5.112   22.956  0.497        0.195777\n",
            "5840 -12.408   33.332  0.531        0.093025\n",
            "5841 -18.204   69.597  0.461       -0.234488\n",
            "5842 -22.252   81.959  0.448       -0.315846\n",
            "5843 -19.436   42.164  0.619       -0.217537\n",
            "\n",
            "[5844 rows x 4 columns]\n"
          ]
        }
      ]
    },
    {
      "cell_type": "code",
      "source": [
        "#rename all columns, added 'inplace = True' to rename within the current df rather than make a copy with the new names\n",
        "df.rename(columns={'TA_F':'TA', 'SW_IN_F':'SW', 'VPD_F':'VPD', 'GPP_NT_VUT_REF':'GPP'}, inplace=True)\n",
        "\n",
        "TA = df['TA']\n",
        "SW = df['SW']\n",
        "VPD = df['VPD']\n",
        "GPP = df['GPP']\n",
        "\n",
        "print(df)"
      ],
      "metadata": {
        "colab": {
          "base_uri": "https://localhost:8080/"
        },
        "id": "7DRA7d-QwvSa",
        "outputId": "108d68ba-1771-433c-f1a3-50274b548681"
      },
      "execution_count": 31,
      "outputs": [
        {
          "output_type": "stream",
          "name": "stdout",
          "text": [
            "          TA      SW    VPD       GPP\n",
            "0    -20.063  72.603  0.413 -0.517364\n",
            "1    -12.814  12.358  0.147 -0.094241\n",
            "2    -12.625  33.132  0.128 -0.166819\n",
            "3    -18.652  93.481  0.263 -0.582301\n",
            "4    -20.269  45.502  0.261 -0.568240\n",
            "...      ...     ...    ...       ...\n",
            "5839  -5.112  22.956  0.497  0.195777\n",
            "5840 -12.408  33.332  0.531  0.093025\n",
            "5841 -18.204  69.597  0.461 -0.234488\n",
            "5842 -22.252  81.959  0.448 -0.315846\n",
            "5843 -19.436  42.164  0.619 -0.217537\n",
            "\n",
            "[5844 rows x 4 columns]\n"
          ]
        }
      ]
    },
    {
      "cell_type": "code",
      "source": [
        "#check for missing values and drop them, filter out missing values\n",
        "ft = (GPP > -999) & (TA > 10) & (VPD < 5)\n",
        "df = df[ft]\n",
        "\n",
        "#same number or rows means no missing values\n",
        "print(df)"
      ],
      "metadata": {
        "colab": {
          "base_uri": "https://localhost:8080/"
        },
        "id": "XVrf0lcPyKuC",
        "outputId": "a7009e37-768a-4706-b4d5-11dd99f88ab9"
      },
      "execution_count": 32,
      "outputs": [
        {
          "output_type": "stream",
          "name": "stdout",
          "text": [
            "          TA       SW    VPD       GPP\n",
            "89    13.069  179.065  4.413  0.218743\n",
            "90    10.363   91.985  2.293 -0.224844\n",
            "91    10.160  131.276  1.998 -0.150231\n",
            "124   14.929   64.452  4.208 -0.335365\n",
            "125   13.003   48.432  1.125 -2.432490\n",
            "...      ...      ...    ...       ...\n",
            "5740  14.816  127.042  4.984  4.512060\n",
            "5743  11.830  207.858  4.653  3.990750\n",
            "5746  15.621  107.746  4.745  2.035560\n",
            "5753  12.711   47.479  1.637  0.553575\n",
            "5775  10.537  110.491  3.139  1.007660\n",
            "\n",
            "[1245 rows x 4 columns]\n"
          ]
        }
      ]
    },
    {
      "cell_type": "code",
      "source": [
        "#create interaction terms and add as a new column\n",
        "\n",
        "#SWxVPD\n",
        "df[\"SW x VPD\"] = df['SW'] * df['VPD']\n",
        "#SWxTA\n",
        "df[\"SW x TA\"] = df['SW'] * df['TA']\n",
        "#VPDxTA\n",
        "df[\"VPD x TA\"] = df['VPD'] * df['TA']\n",
        "\n",
        "SWxVPD = df[\"SW x VPD\"]\n",
        "SWxTA = df[\"SW x TA\"]\n",
        "VPDxTA = df['VPD x TA']\n",
        "\n",
        "print(df)"
      ],
      "metadata": {
        "colab": {
          "base_uri": "https://localhost:8080/"
        },
        "id": "NPICVEX1aEvx",
        "outputId": "be23ab07-9447-4dac-e549-8cf303058250"
      },
      "execution_count": 33,
      "outputs": [
        {
          "output_type": "stream",
          "name": "stdout",
          "text": [
            "          TA       SW    VPD       GPP    SW x VPD      SW x TA   VPD x TA\n",
            "89    13.069  179.065  4.413  0.218743  790.213845  2340.200485  57.673497\n",
            "90    10.363   91.985  2.293 -0.224844  210.921605   953.240555  23.762359\n",
            "91    10.160  131.276  1.998 -0.150231  262.289448  1333.764160  20.299680\n",
            "124   14.929   64.452  4.208 -0.335365  271.214016   962.203908  62.821232\n",
            "125   13.003   48.432  1.125 -2.432490   54.486000   629.761296  14.628375\n",
            "...      ...      ...    ...       ...         ...          ...        ...\n",
            "5740  14.816  127.042  4.984  4.512060  633.177328  1882.254272  73.842944\n",
            "5743  11.830  207.858  4.653  3.990750  967.163274  2458.960140  55.044990\n",
            "5746  15.621  107.746  4.745  2.035560  511.254770  1683.100266  74.121645\n",
            "5753  12.711   47.479  1.637  0.553575   77.723123   603.505569  20.807907\n",
            "5775  10.537  110.491  3.139  1.007660  346.831249  1164.243667  33.075643\n",
            "\n",
            "[1245 rows x 7 columns]\n"
          ]
        }
      ]
    },
    {
      "cell_type": "code",
      "source": [
        "#linear regression model using scipy optimization\n",
        "\n",
        "def costfunc(param, SW, VPD, TA, GPP, SWxVPD, SWxTA, VPDxTA):\n",
        "  β0, β1, β2, β3, β4, β5, β6 = param\n",
        "  GPPpred = β0+β1*SW+β2*VPD+β3*TA+β4*(SWxVPD)+β5*(SWxTA)+β6*(VPDxTA)\n",
        "  #mean squared error\n",
        "  diff = np.mean((GPP - GPPpred)**2)\n",
        "  return diff\n",
        "\n",
        "guess = [10, 10, 10, 10, 10, 10, 10]\n",
        "mymin = minimize(costfunc, guess, args=(SW, VPD, TA, GPP, SWxVPD, SWxTA, VPDxTA))\n",
        "β0, β1, β2, β3, β4, β5, β6 = mymin.x\n",
        "\n",
        "mymin"
      ],
      "metadata": {
        "colab": {
          "base_uri": "https://localhost:8080/"
        },
        "id": "c9ESZhIeq9Hh",
        "outputId": "28b440be-e98d-4e2d-b0bb-b47f4bc3525f"
      },
      "execution_count": 34,
      "outputs": [
        {
          "output_type": "execute_result",
          "data": {
            "text/plain": [
              "  message: Desired error not necessarily achieved due to precision loss.\n",
              "  success: False\n",
              "   status: 2\n",
              "      fun: 12.89769792525038\n",
              "        x: [-2.155e+00  5.277e-02 -1.731e+00  1.682e-01 -5.000e-03\n",
              "            -2.305e-04  1.054e-01]\n",
              "      nit: 24\n",
              "      jac: [-2.623e-06 -5.989e-04 -9.060e-06 -4.601e-05 -2.176e-03\n",
              "            -1.070e-02 -1.659e-04]\n",
              " hess_inv: [[ 2.096e-07 -1.296e-09 ...  5.164e-11 -1.415e-09]\n",
              "            [-1.296e-09  4.604e-03 ... -2.097e-04  1.688e-02]\n",
              "            ...\n",
              "            [ 5.164e-11 -2.097e-04 ...  1.287e-05 -8.068e-04]\n",
              "            [-1.415e-09  1.688e-02 ... -8.068e-04  6.751e-02]]\n",
              "     nfev: 328\n",
              "     njev: 41"
            ]
          },
          "metadata": {},
          "execution_count": 34
        }
      ]
    },
    {
      "cell_type": "code",
      "source": [
        "#linear regression model using sklearn\n",
        "x = df[['TA', 'SW', 'VPD', 'SW x TA', 'SW x VPD', 'VPD x TA']]\n",
        "y = df['GPP']\n",
        "\n",
        "model = LinearRegression()\n",
        "model.fit(x, y)\n",
        "\n",
        "print('Coefficients:', model.coef_)\n",
        "print('Intercept:', model.intercept_)"
      ],
      "metadata": {
        "colab": {
          "base_uri": "https://localhost:8080/"
        },
        "id": "rmAK3P4owyd2",
        "outputId": "196a3d03-085c-423c-db00-e0ee936f94a0"
      },
      "execution_count": 35,
      "outputs": [
        {
          "output_type": "stream",
          "name": "stdout",
          "text": [
            "Coefficients: [ 1.68068185e-01  5.27436999e-02 -1.72912770e+00 -2.28434586e-04\n",
            " -5.00055258e-03  1.05349204e-01]\n",
            "Intercept: -2.1531868633135485\n"
          ]
        }
      ]
    },
    {
      "cell_type": "markdown",
      "source": [
        "I couldn't calculate R2 for scipy optimization model, so the sklearn would be used to compare all possible factors (SW, TA, VPD) - it's also easier to do and has documentation that I was able to understand better, but without being able to compare R2 between the two models makes it unable to determine which is more applicable"
      ],
      "metadata": {
        "id": "iA5AjB6EOIcq"
      }
    },
    {
      "cell_type": "code",
      "source": [
        "#compare R2 for both models\n",
        "#scipy optimization model\n",
        "\n",
        "x1 = df[['TA', 'SW', 'VPD']]\n",
        "y1 = df['GPP']\n",
        "slope, intercept, r_value, p_value, std_err = stats.linregress(x, y)\n",
        "\n",
        "print(f\"R-squared={r_value**2}\")"
      ],
      "metadata": {
        "colab": {
          "base_uri": "https://localhost:8080/",
          "height": 373
        },
        "id": "XZ46U9B3qGBE",
        "outputId": "dfdd0cd8-a86a-4aaa-9593-3a81e9556a56"
      },
      "execution_count": 57,
      "outputs": [
        {
          "output_type": "error",
          "ename": "ValueError",
          "evalue": "all the input array dimensions except for the concatenation axis must match exactly, but along dimension 1, the array at index 0 has size 6 and the array at index 1 has size 1245",
          "traceback": [
            "\u001b[0;31m---------------------------------------------------------------------------\u001b[0m",
            "\u001b[0;31mValueError\u001b[0m                                Traceback (most recent call last)",
            "\u001b[0;32m<ipython-input-57-2688c87e11f5>\u001b[0m in \u001b[0;36m<cell line: 0>\u001b[0;34m()\u001b[0m\n\u001b[1;32m      5\u001b[0m \u001b[0mx1\u001b[0m \u001b[0;34m=\u001b[0m \u001b[0mdf\u001b[0m\u001b[0;34m[\u001b[0m\u001b[0;34m[\u001b[0m\u001b[0;34m'TA'\u001b[0m\u001b[0;34m,\u001b[0m \u001b[0;34m'SW'\u001b[0m\u001b[0;34m,\u001b[0m \u001b[0;34m'VPD'\u001b[0m\u001b[0;34m]\u001b[0m\u001b[0;34m]\u001b[0m\u001b[0;34m\u001b[0m\u001b[0;34m\u001b[0m\u001b[0m\n\u001b[1;32m      6\u001b[0m \u001b[0my1\u001b[0m \u001b[0;34m=\u001b[0m \u001b[0mdf\u001b[0m\u001b[0;34m[\u001b[0m\u001b[0;34m'GPP'\u001b[0m\u001b[0;34m]\u001b[0m\u001b[0;34m\u001b[0m\u001b[0;34m\u001b[0m\u001b[0m\n\u001b[0;32m----> 7\u001b[0;31m \u001b[0mslope\u001b[0m\u001b[0;34m,\u001b[0m \u001b[0mintercept\u001b[0m\u001b[0;34m,\u001b[0m \u001b[0mr_value\u001b[0m\u001b[0;34m,\u001b[0m \u001b[0mp_value\u001b[0m\u001b[0;34m,\u001b[0m \u001b[0mstd_err\u001b[0m \u001b[0;34m=\u001b[0m \u001b[0mstats\u001b[0m\u001b[0;34m.\u001b[0m\u001b[0mlinregress\u001b[0m\u001b[0;34m(\u001b[0m\u001b[0mx\u001b[0m\u001b[0;34m,\u001b[0m \u001b[0my\u001b[0m\u001b[0;34m)\u001b[0m\u001b[0;34m\u001b[0m\u001b[0;34m\u001b[0m\u001b[0m\n\u001b[0m\u001b[1;32m      8\u001b[0m \u001b[0;34m\u001b[0m\u001b[0m\n\u001b[1;32m      9\u001b[0m \u001b[0mprint\u001b[0m\u001b[0;34m(\u001b[0m\u001b[0;34mf\"R-squared={r_value**2}\"\u001b[0m\u001b[0;34m)\u001b[0m\u001b[0;34m\u001b[0m\u001b[0;34m\u001b[0m\u001b[0m\n",
            "\u001b[0;32m/usr/local/lib/python3.11/dist-packages/scipy/stats/_stats_mstats_common.py\u001b[0m in \u001b[0;36mlinregress\u001b[0;34m(x, y, alternative)\u001b[0m\n\u001b[1;32m    165\u001b[0m     \u001b[0;31m#   ssxm = mean( (x-mean(x))^2 )\u001b[0m\u001b[0;34m\u001b[0m\u001b[0;34m\u001b[0m\u001b[0m\n\u001b[1;32m    166\u001b[0m     \u001b[0;31m#   ssxym = mean( (x-mean(x)) * (y-mean(y)) )\u001b[0m\u001b[0;34m\u001b[0m\u001b[0;34m\u001b[0m\u001b[0m\n\u001b[0;32m--> 167\u001b[0;31m     \u001b[0mssxm\u001b[0m\u001b[0;34m,\u001b[0m \u001b[0mssxym\u001b[0m\u001b[0;34m,\u001b[0m \u001b[0m_\u001b[0m\u001b[0;34m,\u001b[0m \u001b[0mssym\u001b[0m \u001b[0;34m=\u001b[0m \u001b[0mnp\u001b[0m\u001b[0;34m.\u001b[0m\u001b[0mcov\u001b[0m\u001b[0;34m(\u001b[0m\u001b[0mx\u001b[0m\u001b[0;34m,\u001b[0m \u001b[0my\u001b[0m\u001b[0;34m,\u001b[0m \u001b[0mbias\u001b[0m\u001b[0;34m=\u001b[0m\u001b[0;36m1\u001b[0m\u001b[0;34m)\u001b[0m\u001b[0;34m.\u001b[0m\u001b[0mflat\u001b[0m\u001b[0;34m\u001b[0m\u001b[0;34m\u001b[0m\u001b[0m\n\u001b[0m\u001b[1;32m    168\u001b[0m \u001b[0;34m\u001b[0m\u001b[0m\n\u001b[1;32m    169\u001b[0m     \u001b[0;31m# R-value\u001b[0m\u001b[0;34m\u001b[0m\u001b[0;34m\u001b[0m\u001b[0m\n",
            "\u001b[0;32m/usr/local/lib/python3.11/dist-packages/numpy/lib/function_base.py\u001b[0m in \u001b[0;36mcov\u001b[0;34m(m, y, rowvar, bias, ddof, fweights, aweights, dtype)\u001b[0m\n\u001b[1;32m   2681\u001b[0m         \u001b[0;32mif\u001b[0m \u001b[0;32mnot\u001b[0m \u001b[0mrowvar\u001b[0m \u001b[0;32mand\u001b[0m \u001b[0my\u001b[0m\u001b[0;34m.\u001b[0m\u001b[0mshape\u001b[0m\u001b[0;34m[\u001b[0m\u001b[0;36m0\u001b[0m\u001b[0;34m]\u001b[0m \u001b[0;34m!=\u001b[0m \u001b[0;36m1\u001b[0m\u001b[0;34m:\u001b[0m\u001b[0;34m\u001b[0m\u001b[0;34m\u001b[0m\u001b[0m\n\u001b[1;32m   2682\u001b[0m             \u001b[0my\u001b[0m \u001b[0;34m=\u001b[0m \u001b[0my\u001b[0m\u001b[0;34m.\u001b[0m\u001b[0mT\u001b[0m\u001b[0;34m\u001b[0m\u001b[0;34m\u001b[0m\u001b[0m\n\u001b[0;32m-> 2683\u001b[0;31m         \u001b[0mX\u001b[0m \u001b[0;34m=\u001b[0m \u001b[0mnp\u001b[0m\u001b[0;34m.\u001b[0m\u001b[0mconcatenate\u001b[0m\u001b[0;34m(\u001b[0m\u001b[0;34m(\u001b[0m\u001b[0mX\u001b[0m\u001b[0;34m,\u001b[0m \u001b[0my\u001b[0m\u001b[0;34m)\u001b[0m\u001b[0;34m,\u001b[0m \u001b[0maxis\u001b[0m\u001b[0;34m=\u001b[0m\u001b[0;36m0\u001b[0m\u001b[0;34m)\u001b[0m\u001b[0;34m\u001b[0m\u001b[0;34m\u001b[0m\u001b[0m\n\u001b[0m\u001b[1;32m   2684\u001b[0m \u001b[0;34m\u001b[0m\u001b[0m\n\u001b[1;32m   2685\u001b[0m     \u001b[0;32mif\u001b[0m \u001b[0mddof\u001b[0m \u001b[0;32mis\u001b[0m \u001b[0;32mNone\u001b[0m\u001b[0;34m:\u001b[0m\u001b[0;34m\u001b[0m\u001b[0;34m\u001b[0m\u001b[0m\n",
            "\u001b[0;31mValueError\u001b[0m: all the input array dimensions except for the concatenation axis must match exactly, but along dimension 1, the array at index 0 has size 6 and the array at index 1 has size 1245"
          ]
        }
      ]
    },
    {
      "cell_type": "code",
      "source": [
        "#sklearn model R2\n",
        "GPP_pred = model.predict(x)\n",
        "sklearn_r2 = r2_score(df['GPP'], GPP_pred)\n",
        "print('sklearn Model R2 Score:', sklearn_r2)"
      ],
      "metadata": {
        "colab": {
          "base_uri": "https://localhost:8080/"
        },
        "id": "lVLJFL1oux0r",
        "outputId": "56828f19-7fdd-4e00-d316-51d4465580aa"
      },
      "execution_count": 50,
      "outputs": [
        {
          "output_type": "stream",
          "name": "stdout",
          "text": [
            "sklearn Model R2 Score: 0.4074362266544902\n"
          ]
        }
      ]
    },
    {
      "cell_type": "markdown",
      "source": [
        "based on the sklearn model, only 40% of the data can be explained with the model (60%) is due to another reason, whether this is an acceptable R2 depends on the research question posed and other surrounding context"
      ],
      "metadata": {
        "id": "pkq_9r6GQ6Ew"
      }
    }
  ]
}